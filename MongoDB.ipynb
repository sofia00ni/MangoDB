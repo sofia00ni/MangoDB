{
 "cells": [
  {
   "cell_type": "code",
   "execution_count": 1,
   "metadata": {},
   "outputs": [],
   "source": [
    "# === SETUP ===\n",
    "from pymongo import MongoClient\n",
    "from pprint import pprint\n",
    "import json\n",
    "import requests\n",
    "\n",
    "# Connect to local MongoDB\n",
    "client = MongoClient()\n"
   ]
  },
  {
   "cell_type": "code",
   "execution_count": 2,
   "metadata": {},
   "outputs": [],
   "source": [
    "db = client['bipm']\n",
    "db.courses.drop()\n",
    "\n",
    "courses = [\n",
    "    {'title': 'Data Science', 'lecturer': {'name': 'Markus Löcher', 'department': 'Math', 'status': 'Professor'}, 'semester': 1},\n",
    "    {'title': 'Data Warehousing', 'lecturer': {'name': 'Roland M. Mueller', 'department': 'Information Systems', 'status': 'Professor'}, 'semester': 1},\n",
    "    {'title': 'Business Process Management', 'lecturer': {'name': 'Frank Habermann', 'department': 'Information Systems', 'status': 'Professor'}, 'semester': 1},\n",
    "    {'title': 'Complexity and Organizational Decision-Making', 'lecturer': {'name': 'Frank Habermann', 'department': 'Information Systems', 'status': 'Professor'}, 'semester': 1},\n",
    "    {'title': 'Natural Language Processing Lab', 'lecturer': {'name': 'Diana Hristova', 'department': 'Information Systems', 'status': 'Professor'}, 'semester': 2},\n",
    "    {'title': 'Enterprise Architectures for Big Data', 'lecturer': {'name': 'Roland M. Mueller', 'department': 'Information Systems', 'status': 'Professor'}, 'semester': 2},\n",
    "    {'title': 'Business Process Innovation Lab', 'lecturer': {'name': 'Frank Habermann', 'department': 'Information Systems', 'status': 'Professor'}, 'semester': 2},\n",
    "    {'title': 'Edge IoT & AI', 'lecturer': {'name': 'Alexander Eck', 'department': 'Information Systems', 'status': 'External'}, 'semester': 2},\n",
    "    {'title': 'Research Methods', 'lecturer': {'name': 'Marcus Birkenkrahe', 'department': 'Information Systems', 'status': 'Professor'}, 'semester': 2}\n",
    "]\n",
    "\n"
   ]
  },
  {
   "cell_type": "code",
   "execution_count": 3,
   "metadata": {},
   "outputs": [
    {
     "name": "stdout",
     "output_type": "stream",
     "text": [
      "[{'title': 'Data Science', 'lecturer': {'name': 'Markus Löcher', 'department': 'Math', 'status': 'Professor'}, 'semester': 1}, {'title': 'Data Warehousing', 'lecturer': {'name': 'Roland M. Mueller', 'department': 'Information Systems', 'status': 'Professor'}, 'semester': 1}, {'title': 'Business Process Management', 'lecturer': {'name': 'Frank Habermann', 'department': 'Information Systems', 'status': 'Professor'}, 'semester': 1}, {'title': 'Complexity and Organizational Decision-Making', 'lecturer': {'name': 'Frank Habermann', 'department': 'Information Systems', 'status': 'Professor'}, 'semester': 1}, {'title': 'Natural Language Processing Lab', 'lecturer': {'name': 'Diana Hristova', 'department': 'Information Systems', 'status': 'Professor'}, 'semester': 2}, {'title': 'Enterprise Architectures for Big Data', 'lecturer': {'name': 'Roland M. Mueller', 'department': 'Information Systems', 'status': 'Professor'}, 'semester': 2}, {'title': 'Business Process Innovation Lab', 'lecturer': {'name': 'Frank Habermann', 'department': 'Information Systems', 'status': 'Professor'}, 'semester': 2}, {'title': 'Edge IoT & AI', 'lecturer': {'name': 'Alexander Eck', 'department': 'Information Systems', 'status': 'External'}, 'semester': 2}, {'title': 'Research Methods', 'lecturer': {'name': 'Marcus Birkenkrahe', 'department': 'Information Systems', 'status': 'Professor'}, 'semester': 2}]\n"
     ]
    }
   ],
   "source": [
    "print(courses)"
   ]
  },
  {
   "cell_type": "code",
   "execution_count": 4,
   "metadata": {},
   "outputs": [
    {
     "data": {
      "text/plain": [
       "InsertManyResult([ObjectId('684dc7fcb7de53a9ae99d29b'), ObjectId('684dc7fcb7de53a9ae99d29c'), ObjectId('684dc7fcb7de53a9ae99d29d'), ObjectId('684dc7fcb7de53a9ae99d29e'), ObjectId('684dc7fcb7de53a9ae99d29f'), ObjectId('684dc7fcb7de53a9ae99d2a0'), ObjectId('684dc7fcb7de53a9ae99d2a1'), ObjectId('684dc7fcb7de53a9ae99d2a2'), ObjectId('684dc7fcb7de53a9ae99d2a3')], acknowledged=True)"
      ]
     },
     "execution_count": 4,
     "metadata": {},
     "output_type": "execute_result"
    }
   ],
   "source": [
    "db.courses.insert_many(courses)"
   ]
  },
  {
   "cell_type": "code",
   "execution_count": 5,
   "metadata": {},
   "outputs": [
    {
     "name": "stdout",
     "output_type": "stream",
     "text": [
      "{'_id': ObjectId('684dc7fcb7de53a9ae99d29b'),\n",
      " 'lecturer': {'department': 'Math',\n",
      "              'name': 'Markus Löcher',\n",
      "              'status': 'Professor'},\n",
      " 'semester': 1,\n",
      " 'title': 'Data Science'}\n",
      "{'_id': ObjectId('684dc7fcb7de53a9ae99d29c'),\n",
      " 'lecturer': {'department': 'Information Systems',\n",
      "              'name': 'Roland M. Mueller',\n",
      "              'status': 'Professor'},\n",
      " 'semester': 1,\n",
      " 'title': 'Data Warehousing'}\n",
      "{'_id': ObjectId('684dc7fcb7de53a9ae99d29d'),\n",
      " 'lecturer': {'department': 'Information Systems',\n",
      "              'name': 'Frank Habermann',\n",
      "              'status': 'Professor'},\n",
      " 'semester': 1,\n",
      " 'title': 'Business Process Management'}\n",
      "{'_id': ObjectId('684dc7fcb7de53a9ae99d29e'),\n",
      " 'lecturer': {'department': 'Information Systems',\n",
      "              'name': 'Frank Habermann',\n",
      "              'status': 'Professor'},\n",
      " 'semester': 1,\n",
      " 'title': 'Complexity and Organizational Decision-Making'}\n",
      "{'_id': ObjectId('684dc7fcb7de53a9ae99d29f'),\n",
      " 'lecturer': {'department': 'Information Systems',\n",
      "              'name': 'Diana Hristova',\n",
      "              'status': 'Professor'},\n",
      " 'semester': 2,\n",
      " 'title': 'Natural Language Processing Lab'}\n",
      "{'_id': ObjectId('684dc7fcb7de53a9ae99d2a0'),\n",
      " 'lecturer': {'department': 'Information Systems',\n",
      "              'name': 'Roland M. Mueller',\n",
      "              'status': 'Professor'},\n",
      " 'semester': 2,\n",
      " 'title': 'Enterprise Architectures for Big Data'}\n",
      "{'_id': ObjectId('684dc7fcb7de53a9ae99d2a1'),\n",
      " 'lecturer': {'department': 'Information Systems',\n",
      "              'name': 'Frank Habermann',\n",
      "              'status': 'Professor'},\n",
      " 'semester': 2,\n",
      " 'title': 'Business Process Innovation Lab'}\n",
      "{'_id': ObjectId('684dc7fcb7de53a9ae99d2a2'),\n",
      " 'lecturer': {'department': 'Information Systems',\n",
      "              'name': 'Alexander Eck',\n",
      "              'status': 'External'},\n",
      " 'semester': 2,\n",
      " 'title': 'Edge IoT & AI'}\n",
      "{'_id': ObjectId('684dc7fcb7de53a9ae99d2a3'),\n",
      " 'lecturer': {'department': 'Information Systems',\n",
      "              'name': 'Marcus Birkenkrahe',\n",
      "              'status': 'Professor'},\n",
      " 'semester': 2,\n",
      " 'title': 'Research Methods'}\n"
     ]
    }
   ],
   "source": [
    "for course in db.courses.find():\n",
    "    pprint(course)"
   ]
  },
  {
   "cell_type": "code",
   "execution_count": 6,
   "metadata": {},
   "outputs": [
    {
     "data": {
      "text/plain": [
       "InsertOneResult(ObjectId('684dc7fcb7de53a9ae99d2a4'), acknowledged=True)"
      ]
     },
     "execution_count": 6,
     "metadata": {},
     "output_type": "execute_result"
    }
   ],
   "source": [
    "my_json = '{\"title\": \"Master Thesis\", \"semester\": 3}'\n",
    "another_course = json.loads(my_json)\n",
    "db.courses.insert_one(another_course)"
   ]
  },
  {
   "cell_type": "code",
   "execution_count": 7,
   "metadata": {},
   "outputs": [
    {
     "name": "stdout",
     "output_type": "stream",
     "text": [
      "\n",
      "Courses after inserting 'Master Thesis':\n",
      "{'_id': ObjectId('684dc7fcb7de53a9ae99d29b'),\n",
      " 'lecturer': {'department': 'Math',\n",
      "              'name': 'Markus Löcher',\n",
      "              'status': 'Professor'},\n",
      " 'semester': 1,\n",
      " 'title': 'Data Science'}\n",
      "{'_id': ObjectId('684dc7fcb7de53a9ae99d29c'),\n",
      " 'lecturer': {'department': 'Information Systems',\n",
      "              'name': 'Roland M. Mueller',\n",
      "              'status': 'Professor'},\n",
      " 'semester': 1,\n",
      " 'title': 'Data Warehousing'}\n",
      "{'_id': ObjectId('684dc7fcb7de53a9ae99d29d'),\n",
      " 'lecturer': {'department': 'Information Systems',\n",
      "              'name': 'Frank Habermann',\n",
      "              'status': 'Professor'},\n",
      " 'semester': 1,\n",
      " 'title': 'Business Process Management'}\n",
      "{'_id': ObjectId('684dc7fcb7de53a9ae99d29e'),\n",
      " 'lecturer': {'department': 'Information Systems',\n",
      "              'name': 'Frank Habermann',\n",
      "              'status': 'Professor'},\n",
      " 'semester': 1,\n",
      " 'title': 'Complexity and Organizational Decision-Making'}\n",
      "{'_id': ObjectId('684dc7fcb7de53a9ae99d29f'),\n",
      " 'lecturer': {'department': 'Information Systems',\n",
      "              'name': 'Diana Hristova',\n",
      "              'status': 'Professor'},\n",
      " 'semester': 2,\n",
      " 'title': 'Natural Language Processing Lab'}\n",
      "{'_id': ObjectId('684dc7fcb7de53a9ae99d2a0'),\n",
      " 'lecturer': {'department': 'Information Systems',\n",
      "              'name': 'Roland M. Mueller',\n",
      "              'status': 'Professor'},\n",
      " 'semester': 2,\n",
      " 'title': 'Enterprise Architectures for Big Data'}\n",
      "{'_id': ObjectId('684dc7fcb7de53a9ae99d2a1'),\n",
      " 'lecturer': {'department': 'Information Systems',\n",
      "              'name': 'Frank Habermann',\n",
      "              'status': 'Professor'},\n",
      " 'semester': 2,\n",
      " 'title': 'Business Process Innovation Lab'}\n",
      "{'_id': ObjectId('684dc7fcb7de53a9ae99d2a2'),\n",
      " 'lecturer': {'department': 'Information Systems',\n",
      "              'name': 'Alexander Eck',\n",
      "              'status': 'External'},\n",
      " 'semester': 2,\n",
      " 'title': 'Edge IoT & AI'}\n",
      "{'_id': ObjectId('684dc7fcb7de53a9ae99d2a3'),\n",
      " 'lecturer': {'department': 'Information Systems',\n",
      "              'name': 'Marcus Birkenkrahe',\n",
      "              'status': 'Professor'},\n",
      " 'semester': 2,\n",
      " 'title': 'Research Methods'}\n",
      "{'_id': ObjectId('684dc7fcb7de53a9ae99d2a4'),\n",
      " 'semester': 3,\n",
      " 'title': 'Master Thesis'}\n"
     ]
    }
   ],
   "source": [
    "print(\"\\nCourses after inserting 'Master Thesis':\")\n",
    "for course in db.courses.find():\n",
    "    pprint(course)"
   ]
  },
  {
   "cell_type": "code",
   "execution_count": 8,
   "metadata": {},
   "outputs": [
    {
     "name": "stdout",
     "output_type": "stream",
     "text": [
      "\n",
      "Found 'Data Science' course:\n",
      "{'_id': ObjectId('684dc7fcb7de53a9ae99d29b'),\n",
      " 'lecturer': {'department': 'Math',\n",
      "              'name': 'Markus Löcher',\n",
      "              'status': 'Professor'},\n",
      " 'semester': 1,\n",
      " 'title': 'Data Science'}\n",
      "ID: 684dc7fcb7de53a9ae99d29b\n",
      "Lecturer: Markus Löcher\n"
     ]
    }
   ],
   "source": [
    "result = db.courses.find_one({\"title\": \"Data Science\"})\n",
    "print(\"\\nFound 'Data Science' course:\")\n",
    "pprint(result)\n",
    "print(\"ID:\", result[\"_id\"])\n",
    "print(\"Lecturer:\", result[\"lecturer\"][\"name\"])"
   ]
  },
  {
   "cell_type": "code",
   "execution_count": 9,
   "metadata": {},
   "outputs": [
    {
     "name": "stdout",
     "output_type": "stream",
     "text": [
      "\n",
      "First course in semester 2:\n",
      "{'_id': ObjectId('684dc7fcb7de53a9ae99d29f'),\n",
      " 'lecturer': {'department': 'Information Systems',\n",
      "              'name': 'Diana Hristova',\n",
      "              'status': 'Professor'},\n",
      " 'semester': 2,\n",
      " 'title': 'Natural Language Processing Lab'}\n"
     ]
    }
   ],
   "source": [
    "print(\"\\nFirst course in semester 2:\")\n",
    "pprint(db.courses.find_one({\"semester\": 2}))\n"
   ]
  },
  {
   "cell_type": "code",
   "execution_count": 10,
   "metadata": {},
   "outputs": [
    {
     "name": "stdout",
     "output_type": "stream",
     "text": [
      "\n",
      "Titles of courses in semester 2:\n",
      "Natural Language Processing Lab\n",
      "Enterprise Architectures for Big Data\n",
      "Business Process Innovation Lab\n",
      "Edge IoT & AI\n",
      "Research Methods\n"
     ]
    }
   ],
   "source": [
    "print(\"\\nTitles of courses in semester 2:\")\n",
    "for c in db.courses.find({\"semester\": 2}):\n",
    "    print(c[\"title\"])\n"
   ]
  },
  {
   "cell_type": "code",
   "execution_count": 11,
   "metadata": {},
   "outputs": [
    {
     "name": "stdout",
     "output_type": "stream",
     "text": [
      "\n",
      "Lecturer names in semester 2:\n",
      "Diana Hristova\n",
      "Roland M. Mueller\n",
      "Frank Habermann\n",
      "Alexander Eck\n",
      "Marcus Birkenkrahe\n"
     ]
    }
   ],
   "source": [
    "print(\"\\nLecturer names in semester 2:\")\n",
    "for c in db.courses.find({\"semester\": 2}):\n",
    "    print(c[\"lecturer\"][\"name\"])"
   ]
  },
  {
   "cell_type": "code",
   "execution_count": 12,
   "metadata": {},
   "outputs": [
    {
     "name": "stdout",
     "output_type": "stream",
     "text": [
      "\n",
      "Courses by Frank Habermann:\n",
      "Business Process Management - Semester 1\n",
      "Complexity and Organizational Decision-Making - Semester 1\n",
      "Business Process Innovation Lab - Semester 2\n"
     ]
    }
   ],
   "source": [
    "print(\"\\nCourses by Frank Habermann:\")\n",
    "for c in db.courses.find({\"lecturer.name\": \"Frank Habermann\"}):\n",
    "    print(c[\"title\"], \"-\", \"Semester\", c[\"semester\"])"
   ]
  },
  {
   "cell_type": "code",
   "execution_count": 13,
   "metadata": {},
   "outputs": [
    {
     "name": "stdout",
     "output_type": "stream",
     "text": [
      "\n",
      "Courses by Frank Habermann in semester 2:\n",
      "Business Process Innovation Lab - Semester 2\n"
     ]
    }
   ],
   "source": [
    "print(\"\\nCourses by Frank Habermann in semester 2:\")\n",
    "for c in db.courses.find({\"lecturer.name\": \"Frank Habermann\", \"semester\": 2}):\n",
    "    print(c[\"title\"], \"-\", \"Semester\", c[\"semester\"])"
   ]
  },
  {
   "cell_type": "code",
   "execution_count": 14,
   "metadata": {},
   "outputs": [
    {
     "name": "stdout",
     "output_type": "stream",
     "text": [
      "\n",
      "Courses by Frank Habermann or Markus Löcher:\n",
      "Data Science - Semester 1\n",
      "Business Process Management - Semester 1\n",
      "Complexity and Organizational Decision-Making - Semester 1\n",
      "Business Process Innovation Lab - Semester 2\n"
     ]
    }
   ],
   "source": [
    "print(\"\\nCourses by Frank Habermann or Markus Löcher:\")\n",
    "for c in db.courses.find({\"$or\": [{\"lecturer.name\": \"Frank Habermann\"}, {\"lecturer.name\": \"Markus Löcher\"}]}):\n",
    "    print(c[\"title\"], \"-\", \"Semester\", c[\"semester\"])"
   ]
  },
  {
   "cell_type": "code",
   "execution_count": 15,
   "metadata": {},
   "outputs": [
    {
     "name": "stdout",
     "output_type": "stream",
     "text": [
      "\n",
      "Courses in semester > 1:\n",
      "Natural Language Processing Lab - Semester 2\n",
      "Enterprise Architectures for Big Data - Semester 2\n",
      "Business Process Innovation Lab - Semester 2\n",
      "Edge IoT & AI - Semester 2\n",
      "Research Methods - Semester 2\n",
      "Master Thesis - Semester 3\n"
     ]
    }
   ],
   "source": [
    "print(\"\\nCourses in semester > 1:\")\n",
    "for c in db.courses.find({\"semester\": {\"$gt\": 1}}):\n",
    "    print(c[\"title\"], \"-\", \"Semester\", c[\"semester\"])"
   ]
  },
  {
   "cell_type": "code",
   "execution_count": 16,
   "metadata": {},
   "outputs": [
    {
     "name": "stdout",
     "output_type": "stream",
     "text": [
      "\n",
      "Number of courses in semester 2: 5\n"
     ]
    }
   ],
   "source": [
    "count = db.courses.count_documents({\"semester\": 2})\n",
    "print(\"\\nNumber of courses in semester 2:\", count)"
   ]
  },
  {
   "cell_type": "code",
   "execution_count": 17,
   "metadata": {},
   "outputs": [
    {
     "name": "stdout",
     "output_type": "stream",
     "text": [
      "{'_id': ObjectId('684dc7fcb7de53a9ae99d29b'),\n",
      " 'lecturer': {'department': 'Math',\n",
      "              'name': 'Markus Löcher',\n",
      "              'status': 'Professor'},\n",
      " 'semester': 1,\n",
      " 'title': 'Data Science'}\n",
      "{'_id': ObjectId('684dc7fcb7de53a9ae99d29c'),\n",
      " 'lecturer': {'department': 'Information Systems',\n",
      "              'name': 'Roland M. Mueller',\n",
      "              'status': 'Professor'},\n",
      " 'semester': 1,\n",
      " 'title': 'Data Warehousing'}\n",
      "{'_id': ObjectId('684dc7fcb7de53a9ae99d29d'),\n",
      " 'lecturer': {'department': 'Information Systems',\n",
      "              'name': 'Frank Habermann',\n",
      "              'status': 'Professor'},\n",
      " 'semester': 1,\n",
      " 'title': 'Business Process Management'}\n",
      "{'_id': ObjectId('684dc7fcb7de53a9ae99d29e'),\n",
      " 'lecturer': {'department': 'Information Systems',\n",
      "              'name': 'Frank Habermann',\n",
      "              'status': 'Professor'},\n",
      " 'semester': 1,\n",
      " 'title': 'Complexity and Organizational Decision-Making'}\n",
      "{'_id': ObjectId('684dc7fcb7de53a9ae99d29f'),\n",
      " 'lecturer': {'department': 'Information Systems',\n",
      "              'name': 'Diana Hristova',\n",
      "              'status': 'Professor'},\n",
      " 'semester': 2,\n",
      " 'title': 'Natural Language Processing Lab'}\n",
      "{'_id': ObjectId('684dc7fcb7de53a9ae99d2a0'),\n",
      " 'lecturer': {'department': 'Information Systems',\n",
      "              'name': 'Roland M. Mueller',\n",
      "              'status': 'Professor'},\n",
      " 'semester': 2,\n",
      " 'title': 'Enterprise Architectures for Big Data'}\n",
      "{'_id': ObjectId('684dc7fcb7de53a9ae99d2a1'),\n",
      " 'lecturer': {'department': 'Information Systems',\n",
      "              'name': 'Frank Habermann',\n",
      "              'status': 'Professor'},\n",
      " 'semester': 2,\n",
      " 'title': 'Business Process Innovation Lab'}\n",
      "{'_id': ObjectId('684dc7fcb7de53a9ae99d2a2'),\n",
      " 'lecturer': {'department': 'Information Systems',\n",
      "              'name': 'Alexander Eck',\n",
      "              'status': 'External'},\n",
      " 'semester': 2,\n",
      " 'title': 'Edge IoT & AI'}\n",
      "{'_id': ObjectId('684dc7fcb7de53a9ae99d2a3'),\n",
      " 'lecturer': {'department': 'Information Systems',\n",
      "              'name': 'Marcus Birkenkrahe',\n",
      "              'status': 'Professor'},\n",
      " 'semester': 2,\n",
      " 'title': 'Research Methods'}\n",
      "{'_id': ObjectId('684dc7fcb7de53a9ae99d2a4'),\n",
      " 'semester': 3,\n",
      " 'title': 'Master Thesis'}\n",
      "684dc7fcb7de53a9ae99d29b\n",
      "Markus Löcher\n",
      "{'_id': ObjectId('684dc7fcb7de53a9ae99d29f'),\n",
      " 'lecturer': {'department': 'Information Systems',\n",
      "              'name': 'Diana Hristova',\n",
      "              'status': 'Professor'},\n",
      " 'semester': 2,\n",
      " 'title': 'Natural Language Processing Lab'}\n",
      "Natural Language Processing Lab\n",
      "Enterprise Architectures for Big Data\n",
      "Business Process Innovation Lab\n",
      "Edge IoT & AI\n",
      "Research Methods\n",
      "Diana Hristova\n",
      "Roland M. Mueller\n",
      "Frank Habermann\n",
      "Alexander Eck\n",
      "Marcus Birkenkrahe\n",
      "Business Process Management 1\n",
      "Complexity and Organizational Decision-Making 1\n",
      "Business Process Innovation Lab 2\n",
      "Business Process Innovation Lab 2\n",
      "Data Science 1\n",
      "Business Process Management 1\n",
      "Complexity and Organizational Decision-Making 1\n",
      "Business Process Innovation Lab 2\n",
      "Natural Language Processing Lab 2\n",
      "Enterprise Architectures for Big Data 2\n",
      "Business Process Innovation Lab 2\n",
      "Edge IoT & AI 2\n",
      "Research Methods 2\n",
      "Master Thesis 3\n",
      "Master Thesis 3\n",
      "5\n"
     ]
    }
   ],
   "source": [
    "# Combined Code\n",
    "for course in db.courses.find():\n",
    "    pprint(course)\n",
    "\n",
    "# Insert from JSON\n",
    "my_json = '{\"title\": \"Master Thesis\", \"semester\": 3}'\n",
    "another_course = json.loads(my_json)\n",
    "db.courses.insert_one(another_course)\n",
    "\n",
    "# Find Data Science\n",
    "result = db.courses.find_one({\"title\": \"Data Science\"})\n",
    "print(result[\"_id\"])\n",
    "print(result[\"lecturer\"][\"name\"])\n",
    "\n",
    "# First course in semester 2\n",
    "pprint(db.courses.find_one({\"semester\": 2}))\n",
    "\n",
    "# All titles in semester 2\n",
    "for course in db.courses.find({\"semester\": 2}):\n",
    "    print(course[\"title\"])\n",
    "\n",
    "# All lecturer names in semester 2\n",
    "for course in db.courses.find({\"semester\": 2}):\n",
    "    print(course[\"lecturer\"][\"name\"])\n",
    "\n",
    "# Courses by Frank Habermann\n",
    "for course in db.courses.find({\"lecturer.name\": \"Frank Habermann\"}):\n",
    "    print(course[\"title\"], course[\"semester\"])\n",
    "\n",
    "# Frank in semester 2\n",
    "for course in db.courses.find({\"lecturer.name\": \"Frank Habermann\", \"semester\": 2}):\n",
    "    print(course[\"title\"], course[\"semester\"])\n",
    "\n",
    "# Frank OR Markus\n",
    "for course in db.courses.find({\"$or\": [{\"lecturer.name\": \"Frank Habermann\"}, {\"lecturer.name\": \"Markus Löcher\"}]}):\n",
    "    print(course[\"title\"], course[\"semester\"])\n",
    "\n",
    "# Semester > 1\n",
    "for course in db.courses.find({\"semester\": {\"$gt\": 1}}):\n",
    "    print(course[\"title\"], course[\"semester\"])\n",
    "\n",
    "# Count semester 2\n",
    "print(db.courses.count_documents({\"semester\": 2}))\n"
   ]
  },
  {
   "cell_type": "code",
   "execution_count": 18,
   "metadata": {},
   "outputs": [
    {
     "name": "stdout",
     "output_type": "stream",
     "text": [
      "{'_id': ObjectId('684dc7fdb7de53a9ae99d54a'),\n",
      " 'born': '1845-03-27',\n",
      " 'bornCity': 'Lennep (now Remscheid)',\n",
      " 'bornCountry': 'Prussia (now Germany)',\n",
      " 'bornCountryCode': 'DE',\n",
      " 'died': '1923-02-10',\n",
      " 'diedCity': 'Munich',\n",
      " 'diedCountry': 'Germany',\n",
      " 'diedCountryCode': 'DE',\n",
      " 'firstname': 'Wilhelm Conrad',\n",
      " 'gender': 'male',\n",
      " 'id': '1',\n",
      " 'prizes': [{'affiliations': [{'city': 'Munich',\n",
      "                               'country': 'Germany',\n",
      "                               'name': 'Munich University'}],\n",
      "             'category': 'physics',\n",
      "             'motivation': '\"in recognition of the extraordinary services he '\n",
      "                           'has rendered by the discovery of the remarkable '\n",
      "                           'rays subsequently named after him\"',\n",
      "             'share': '1',\n",
      "             'year': '1901'}],\n",
      " 'surname': 'Röntgen'}\n"
     ]
    }
   ],
   "source": [
    "db = client[\"nobel\"]\n",
    "db.prizes.drop()\n",
    "db.laureates.drop()\n",
    "\n",
    "for collection_name in [\"prizes\", \"laureates\"]:\n",
    "    singular = collection_name[:-1]\n",
    "    response = requests.get(f\"http://api.nobelprize.org/v1/{singular}.json\")\n",
    "    documents = response.json()[collection_name]\n",
    "    db[collection_name].insert_many(documents)\n",
    "\n",
    "# Preview 1st laureate\n",
    "pprint(db.laureates.find_one())\n"
   ]
  },
  {
   "cell_type": "code",
   "execution_count": 19,
   "metadata": {},
   "outputs": [
    {
     "name": "stdout",
     "output_type": "stream",
     "text": [
      "{'_id': ObjectId('684dc7fdb7de53a9ae99d54a'),\n",
      " 'born': '1845-03-27',\n",
      " 'bornCity': 'Lennep (now Remscheid)',\n",
      " 'bornCountry': 'Prussia (now Germany)',\n",
      " 'bornCountryCode': 'DE',\n",
      " 'died': '1923-02-10',\n",
      " 'diedCity': 'Munich',\n",
      " 'diedCountry': 'Germany',\n",
      " 'diedCountryCode': 'DE',\n",
      " 'firstname': 'Wilhelm Conrad',\n",
      " 'gender': 'male',\n",
      " 'id': '1',\n",
      " 'prizes': [{'affiliations': [{'city': 'Munich',\n",
      "                               'country': 'Germany',\n",
      "                               'name': 'Munich University'}],\n",
      "             'category': 'physics',\n",
      "             'motivation': '\"in recognition of the extraordinary services he '\n",
      "                           'has rendered by the discovery of the remarkable '\n",
      "                           'rays subsequently named after him\"',\n",
      "             'share': '1',\n",
      "             'year': '1901'}],\n",
      " 'surname': 'Röntgen'}\n"
     ]
    }
   ],
   "source": [
    "pprint(db.laureates.find_one())"
   ]
  },
  {
   "cell_type": "code",
   "execution_count": 20,
   "metadata": {},
   "outputs": [
    {
     "name": "stdout",
     "output_type": "stream",
     "text": [
      "First laureate's firstname: Wilhelm Conrad\n"
     ]
    }
   ],
   "source": [
    "# TODO: Print the first name of the first laureate\n",
    "print(\"First laureate's firstname:\", db.laureates.find_one()[\"firstname\"])"
   ]
  },
  {
   "cell_type": "code",
   "execution_count": 21,
   "metadata": {},
   "outputs": [
    {
     "name": "stdout",
     "output_type": "stream",
     "text": [
      "Number of female laureates: 65\n"
     ]
    }
   ],
   "source": [
    "# TODO: Count all female laureates\n",
    "female_count = db.laureates.count_documents({\"gender\": \"female\"})\n",
    "print(\"Number of female laureates:\", female_count)\n"
   ]
  },
  {
   "cell_type": "code",
   "execution_count": 22,
   "metadata": {},
   "outputs": [
    {
     "name": "stdout",
     "output_type": "stream",
     "text": [
      "Laureates from Germany: 97\n"
     ]
    }
   ],
   "source": [
    "# TODO: Count laureates whose bornCountry contains \"Germany\"\n",
    "german_count = db.laureates.count_documents({\"bornCountry\": {\"$regex\": \"Germany\"}})\n",
    "print(\"Laureates from Germany:\", german_count)\n"
   ]
  },
  {
   "cell_type": "code",
   "execution_count": 23,
   "metadata": {},
   "outputs": [
    {
     "name": "stdout",
     "output_type": "stream",
     "text": [
      "Physics Nobel laureates from Germany:\n",
      "1901 Wilhelm Conrad Röntgen\n",
      "1909 Ferdinand Braun\n",
      "1914 Max von Laue\n",
      "1918 Max Planck\n",
      "1919 Johannes Stark\n",
      "1921 Albert Einstein\n",
      "1925 James Franck\n",
      "1925 Gustav Hertz\n",
      "1932 Werner Heisenberg\n",
      "1943 Otto Stern\n",
      "1954 Max Born\n",
      "1954 Walther Bothe\n",
      "1955 Polykarp Kusch\n",
      "1961 Rudolf Mössbauer\n",
      "1963 Maria Goeppert Mayer\n",
      "1963 J. Hans D. Jensen\n",
      "1966 Alfred Kastler\n",
      "1967 Hans Bethe\n",
      "1978 Arno Penzias\n",
      "1986 Ernst Ruska\n",
      "1986 Gerd Binnig\n",
      "1987 J. Georg Bednorz\n",
      "1988 Jack Steinberger\n",
      "1989 Hans G. Dehmelt\n",
      "1989 Wolfgang Paul\n",
      "1998 Horst L. Störmer\n",
      "2000 Herbert Kroemer\n",
      "2001 Wolfgang Ketterle\n",
      "2005 Theodor W. Hänsch\n",
      "2017 Rainer Weiss\n",
      "2020 Reinhard Genzel\n",
      "2021 Klaus Hasselmann\n"
     ]
    }
   ],
   "source": [
    "# TODO: Physics laureates from Germany\n",
    "cursor = db.laureates.find({\n",
    "    \"bornCountry\": {\"$regex\": \"Germany\"},\n",
    "    \"prizes\": {\"$elemMatch\": {\"category\": \"physics\"}}\n",
    "})\n",
    "\n",
    "print(\"Physics Nobel laureates from Germany:\")\n",
    "for doc in cursor:\n",
    "    first_prize = doc[\"prizes\"][0]\n",
    "    print(first_prize[\"year\"], doc[\"firstname\"], doc[\"surname\"])"
   ]
  },
  {
   "cell_type": "code",
   "execution_count": 24,
   "metadata": {},
   "outputs": [
    {
     "name": "stdout",
     "output_type": "stream",
     "text": [
      "Malala's document:\n",
      "{'_id': ObjectId('684dc7fdb7de53a9ae99d8ba'),\n",
      " 'born': '1997-07-12',\n",
      " 'bornCity': 'Mingora',\n",
      " 'bornCountry': 'Pakistan',\n",
      " 'bornCountryCode': 'PK',\n",
      " 'died': '0000-00-00',\n",
      " 'firstname': 'Malala',\n",
      " 'gender': 'female',\n",
      " 'id': '914',\n",
      " 'prizes': [{'affiliations': [[]],\n",
      "             'category': 'peace',\n",
      "             'motivation': '\"for their struggle against the suppression of '\n",
      "                           'children and young people and for the right of all '\n",
      "                           'children to education\"',\n",
      "             'share': '2',\n",
      "             'year': '2014'}],\n",
      " 'surname': 'Yousafzai'}\n"
     ]
    }
   ],
   "source": [
    "# TODO: Find the laureate named \"Malala\"\n",
    "malala = db.laureates.find_one({\"firstname\": \"Malala\"})\n",
    "print(\"Malala's document:\")\n",
    "pprint(malala)"
   ]
  },
  {
   "cell_type": "code",
   "execution_count": 25,
   "metadata": {},
   "outputs": [
    {
     "name": "stdout",
     "output_type": "stream",
     "text": [
      "Female laureates sorted by first prize year:\n",
      "1903 Marie Curie\n",
      "1905 Bertha von Suttner\n",
      "1909 Selma Lagerlöf\n",
      "1926 Grazia Deledda\n",
      "1928 Sigrid Undset\n",
      "1931 Jane Addams\n",
      "1935 Irène Joliot-Curie\n",
      "1938 Pearl Buck\n",
      "1945 Gabriela Mistral\n",
      "1946 Emily Greene Balch\n",
      "1947 Gerty Cori\n",
      "1963 Maria Goeppert Mayer\n",
      "1964 Dorothy Crowfoot Hodgkin\n",
      "1966 Nelly Sachs\n",
      "1976 Betty Williams\n",
      "1976 Mairead Corrigan\n",
      "1977 Rosalyn Yalow\n",
      "1979 Anjezë Gonxhe Bojaxhiu\n",
      "1982 Alva Myrdal\n",
      "1983 Barbara McClintock\n",
      "1986 Rita Levi-Montalcini\n",
      "1988 Gertrude B. Elion\n",
      "1991 Aung San Suu Kyi \n",
      "1991 Nadine Gordimer\n",
      "1992 Rigoberta Menchú Tum\n",
      "1993 Toni Morrison\n",
      "1995 Christiane Nüsslein-Volhard\n",
      "1996 Wisława Szymborska\n",
      "1997 Jody Williams\n",
      "2003 Shirin Ebadi\n",
      "2004 Wangari Maathai\n",
      "2004 Linda B. Buck\n",
      "2004 Elfriede Jelinek\n",
      "2007 Doris Lessing\n",
      "2008 Françoise Barré-Sinoussi\n",
      "2009 Elizabeth H. Blackburn\n",
      "2009 Carol W. Greider\n",
      "2009 Ada E. Yonath\n",
      "2009 Herta Müller\n",
      "2009 Elinor Ostrom\n",
      "2011 Ellen Johnson Sirleaf\n",
      "2011 Tawakkol Karman\n",
      "2011 Leymah Gbowee\n",
      "2013 Alice Munro\n",
      "2014 May-Britt Moser\n",
      "2014 Malala Yousafzai\n",
      "2015 Youyou Tu\n",
      "2015 Svetlana Alexievich\n",
      "2018 Donna Strickland\n",
      "2018 Olga Tokarczuk\n",
      "2018 Nadia Murad\n",
      "2018 Frances H. Arnold\n",
      "2019 Esther Duflo\n",
      "2020 Andrea Ghez\n",
      "2020 Emmanuelle Charpentier\n",
      "2020 Jennifer A. Doudna\n",
      "2020 Louise Glück\n",
      "2021 Maria Ressa\n",
      "2022 Carolyn Bertozzi\n",
      "2022 Annie Ernaux\n",
      "2023 Katalin Karikó\n",
      "2023 Anne L’Huillier\n",
      "2023 Narges Mohammadi\n",
      "2023 Claudia Goldin\n",
      "2024 Kang Han\n"
     ]
    }
   ],
   "source": [
    "# TODO: Sort female laureates by year of first prize\n",
    "sorted_females = db.laureates.find({\"gender\": \"female\"}).sort([(\"prizes.0.year\", 1)])\n",
    "\n",
    "print(\"Female laureates sorted by first prize year:\")\n",
    "for doc in sorted_females:\n",
    "    first_prize = doc.get(\"prizes\", [{}])[0]\n",
    "    year = first_prize.get(\"year\", \"N/A\")\n",
    "    firstname = doc.get(\"firstname\", \"N/A\")\n",
    "    surname = doc.get(\"surname\", \"\")  # use empty string if missing\n",
    "    print(year, firstname, surname)"
   ]
  }
 ],
 "metadata": {
  "kernelspec": {
   "display_name": "Python (MongoDB)",
   "language": "python",
   "name": "mongodb-env"
  },
  "language_info": {
   "codemirror_mode": {
    "name": "ipython",
    "version": 3
   },
   "file_extension": ".py",
   "mimetype": "text/x-python",
   "name": "python",
   "nbconvert_exporter": "python",
   "pygments_lexer": "ipython3",
   "version": "3.13.3"
  }
 },
 "nbformat": 4,
 "nbformat_minor": 2
}
